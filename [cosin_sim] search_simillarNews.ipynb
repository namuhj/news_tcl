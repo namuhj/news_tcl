{
 "cells": [
  {
   "cell_type": "code",
   "execution_count": 2,
   "metadata": {},
   "outputs": [
    {
     "name": "stdout",
     "output_type": "stream",
     "text": [
      "18472\n"
     ]
    }
   ],
   "source": [
    "#https://rueki.tistory.com/26\n",
    "\n",
    "import pandas as pd\n",
    "\n",
    "df = pd.read_excel('C:/Users/09368/workspace/data/excel/Article_economy_202101_202104.xlsx')\n",
    "\n",
    "print(len(df))\n",
    "\n",
    "title  = df['title'].values.tolist()\n",
    "body   = df['body'].values.tolist()\n",
    "date   = df['date'].values.tolist()\n",
    "source = df['source'].values.tolist()"
   ]
  },
  {
   "cell_type": "markdown",
   "metadata": {},
   "source": [
    "## 전처리"
   ]
  },
  {
   "cell_type": "code",
   "execution_count": 16,
   "metadata": {},
   "outputs": [],
   "source": [
    "import re\n",
    "\n",
    "def preprocessing(sentence):\n",
    "    sentence =re.sub('[^가-힣ㄱ-ㅎㅏ-ㅣa-zA-Z]', ' ', sentence)\n",
    "    return sentence\n",
    "\n",
    "# Preprocessing (특수문자 제거)\n",
    "df['body_cleaned'] = df['body'].apply(preprocessing)\n",
    "df['overview']     = df['body_cleaned'].fillna(' ') # 키워드 중심 추출 위해\n",
    "\n",
    "overview = df['overview'].values.tolist()"
   ]
  },
  {
   "cell_type": "markdown",
   "metadata": {},
   "source": [
    "## tf-idf 계산"
   ]
  },
  {
   "cell_type": "code",
   "execution_count": 8,
   "metadata": {},
   "outputs": [
    {
     "name": "stdout",
     "output_type": "stream",
     "text": [
      "(18472, 292731)\n"
     ]
    }
   ],
   "source": [
    "from sklearn.feature_extraction.text import TfidfVectorizer\n",
    "\n",
    "tfidf = TfidfVectorizer()\n",
    "tfidf_matrix = tfidf.fit_transform(overview)\n",
    "\n",
    "# 본문에 대해서 tf-idf 수행\n",
    "# 기사 각각의 tf-idf 값을 계산\n",
    "print(tfidf_matrix.shape)\n",
    "\n",
    "# TF-IDF 매트릭스 확인\n",
    "# 데이터 갯수 : 1000, 모든 본문 뉴스를 토대로 구한 유니크한 단어의 갯수 : 56230\n",
    "# 1000개 데이터의 overview에서 56230개의 단어가 쓰인 것을 볼 수 있다."
   ]
  },
  {
   "cell_type": "markdown",
   "metadata": {},
   "source": [
    "## 코사인 유사도 계산"
   ]
  },
  {
   "cell_type": "markdown",
   "metadata": {},
   "source": [
    "#### 뉴스 데이터의 본문 통해 유사도를 비교, 뉴스 title로 비슷한 뉴스 찾기"
   ]
  },
  {
   "cell_type": "code",
   "execution_count": 2,
   "metadata": {},
   "outputs": [
    {
     "name": "stdout",
     "output_type": "stream",
     "text": [
      "0.6666666666666667\n",
      "1.0000000000000002\n",
      "0.6666666666666667\n"
     ]
    }
   ],
   "source": [
    "\"\"\"\n",
    "코사인 유사도 : 두 벡터 간의 코사인 각도를 이용하여 구할 수 있는 두 벡터의 유사도\n",
    "\n",
    "두 벡터의 방향이 같으면 1, 직교일 때는 0, 서로 반대 방향이면 -1\n",
    "1에 가까울 수록 유사도가 높다고 판단\n",
    "\n",
    "ex) \n",
    "문서1 : 저는 사과 좋아요\n",
    "문서2 : 저는 바나나 좋아요\n",
    "문서3 : 저는 바나나 좋아요 저는 바나나 좋아요\n",
    "\n",
    "        바나나   사과   저는    좋아요\n",
    "문서1   0         1       1        1\n",
    "문서2   1         0       1        1\n",
    "문서3   2         0       2        2 \n",
    "\n",
    "\"\"\"\n",
    "\n",
    "from numpy import dot\n",
    "from numpy.linalg import norm\n",
    "import numpy as np\n",
    "def cos_sim(A, B):\n",
    "    return dot(A,B) / (norm(A)*norm(B))\n",
    "\n",
    "doc1 = np.array([0,1,1,1])\n",
    "doc2 = np.array([1,0,1,1])\n",
    "doc3 = np.array([2,0,2,2])\n",
    "\n",
    "print(cos_sim(doc1,doc2))\n",
    "print(cos_sim(doc2,doc3))\n",
    "print(cos_sim(doc1,doc3))"
   ]
  },
  {
   "cell_type": "code",
   "execution_count": 17,
   "metadata": {},
   "outputs": [
    {
     "name": "stdout",
     "output_type": "stream",
     "text": [
      "[[1.         0.03528597 0.03388586 ... 0.00608131 0.00205572 0.00119064]\n",
      " [0.03528597 1.         0.02907445 ... 0.         0.00290602 0.00187008]\n",
      " [0.03388586 0.02907445 1.         ... 0.00378803 0.00672677 0.01048857]\n",
      " ...\n",
      " [0.00608131 0.         0.00378803 ... 1.         0.01133439 0.00545765]\n",
      " [0.00205572 0.00290602 0.00672677 ... 0.01133439 1.         0.3869048 ]\n",
      " [0.00119064 0.00187008 0.01048857 ... 0.00545765 0.3869048  1.        ]]\n",
      "title\n",
      "세진중공업 560억 규모 육상플랜트 모듈 수주           0\n",
      "한국조선해양 지난해 수주액 100억 달러…목표 91% 달성    1\n",
      "“경기 하락세 1분기에는 다소 완화될 듯”             2\n",
      "울산 소상공인 81%는 ‘임차인’…보증금 네 번째 높아      3\n",
      "공영쇼핑 ‘2021 건강하소 행복하소’ 이벤트           4\n",
      "dtype: int64\n"
     ]
    }
   ],
   "source": [
    "from sklearn.metrics.pairwise import linear_kernel\n",
    "\n",
    "# 코사인 유사도 계산\n",
    "cosine_sim = linear_kernel(tfidf_matrix, tfidf_matrix)\n",
    "\n",
    "#인덱스 테이블 생성\n",
    "indices = pd.Series(df[:1000].index, index= df['title'][:1000]).drop_duplicates()\n",
    "\n",
    "print(cosine_sim)\n",
    "\"\"\"\n",
    "각 행과 열은 들어온 본문 데이터이며, 각 셀은 코사인 유사도 수치를 의미함\n",
    "\"\"\"\n",
    "print(indices.head())"
   ]
  },
  {
   "cell_type": "code",
   "execution_count": 12,
   "metadata": {},
   "outputs": [
    {
     "name": "stdout",
     "output_type": "stream",
     "text": [
      "1\n"
     ]
    }
   ],
   "source": [
    "idx= indices['한국조선해양 지난해 수주액 100억 달러…목표 91% 달성']\n",
    "print(idx)"
   ]
  },
  {
   "cell_type": "code",
   "execution_count": 32,
   "metadata": {},
   "outputs": [
    {
     "data": {
      "text/html": [
       "<div>\n",
       "<style scoped>\n",
       "    .dataframe tbody tr th:only-of-type {\n",
       "        vertical-align: middle;\n",
       "    }\n",
       "\n",
       "    .dataframe tbody tr th {\n",
       "        vertical-align: top;\n",
       "    }\n",
       "\n",
       "    .dataframe thead th {\n",
       "        text-align: right;\n",
       "    }\n",
       "</style>\n",
       "<table border=\"1\" class=\"dataframe\">\n",
       "  <thead>\n",
       "    <tr style=\"text-align: right;\">\n",
       "      <th></th>\n",
       "      <th>title</th>\n",
       "      <th>score</th>\n",
       "    </tr>\n",
       "  </thead>\n",
       "  <tbody>\n",
       "    <tr>\n",
       "      <th>6048</th>\n",
       "      <td>현대重 그룹 올해 수주 목표 16조원… 작년의 1.5배 규모</td>\n",
       "      <td>0.219697</td>\n",
       "    </tr>\n",
       "    <tr>\n",
       "      <th>9352</th>\n",
       "      <td>한국조선해양 올해 첫 수주…컨테이너선 6척</td>\n",
       "      <td>0.177582</td>\n",
       "    </tr>\n",
       "    <tr>\n",
       "      <th>3525</th>\n",
       "      <td>한국조선해양 올해 수주 목표 149억 달러로 설정</td>\n",
       "      <td>0.172858</td>\n",
       "    </tr>\n",
       "    <tr>\n",
       "      <th>13449</th>\n",
       "      <td>한국조선해양 올해 수주 목표 149억 달러로 설정</td>\n",
       "      <td>0.172858</td>\n",
       "    </tr>\n",
       "    <tr>\n",
       "      <th>12525</th>\n",
       "      <td>특징주한국조선해양 올해 목표 수주액 상향에 5% 급등</td>\n",
       "      <td>0.160713</td>\n",
       "    </tr>\n",
       "    <tr>\n",
       "      <th>4457</th>\n",
       "      <td>한국조선해양 올해 수주 목표 149억 달러 설정…작년 1.5배</td>\n",
       "      <td>0.157546</td>\n",
       "    </tr>\n",
       "    <tr>\n",
       "      <th>5293</th>\n",
       "      <td>한국조선해양 올해 수주 목표 149억 달러로 설정</td>\n",
       "      <td>0.143414</td>\n",
       "    </tr>\n",
       "    <tr>\n",
       "      <th>11184</th>\n",
       "      <td>한국조선해양 새해 벽두부터 대형 컨테이너선 6척 9000억 수주</td>\n",
       "      <td>0.136390</td>\n",
       "    </tr>\n",
       "    <tr>\n",
       "      <th>10519</th>\n",
       "      <td>조선업 새해에도 수주 낭보...올해 수주목표 높인다</td>\n",
       "      <td>0.135477</td>\n",
       "    </tr>\n",
       "    <tr>\n",
       "      <th>9705</th>\n",
       "      <td>새해부터 ‘수주릴레이’ 조선사… 실적 갱신 기대</td>\n",
       "      <td>0.134530</td>\n",
       "    </tr>\n",
       "  </tbody>\n",
       "</table>\n",
       "</div>"
      ],
      "text/plain": [
       "                                     title     score\n",
       "6048     현대重 그룹 올해 수주 목표 16조원… 작년의 1.5배 규모  0.219697\n",
       "9352               한국조선해양 올해 첫 수주…컨테이너선 6척  0.177582\n",
       "3525           한국조선해양 올해 수주 목표 149억 달러로 설정  0.172858\n",
       "13449          한국조선해양 올해 수주 목표 149억 달러로 설정  0.172858\n",
       "12525        특징주한국조선해양 올해 목표 수주액 상향에 5% 급등  0.160713\n",
       "4457    한국조선해양 올해 수주 목표 149억 달러 설정…작년 1.5배  0.157546\n",
       "5293           한국조선해양 올해 수주 목표 149억 달러로 설정  0.143414\n",
       "11184  한국조선해양 새해 벽두부터 대형 컨테이너선 6척 9000억 수주  0.136390\n",
       "10519         조선업 새해에도 수주 낭보...올해 수주목표 높인다  0.135477\n",
       "9705            새해부터 ‘수주릴레이’ 조선사… 실적 갱신 기대  0.134530"
      ]
     },
     "execution_count": 32,
     "metadata": {},
     "output_type": "execute_result"
    }
   ],
   "source": [
    "def get_recommendatioin(title, cosine_sim=cosine_sim):\n",
    "    # 입려된 뉴스 title로부터 인덱스 가져오기\n",
    "    idx= indices[title]\n",
    "    \n",
    "    #모든 영화에 대해 해당 영화와의 유사도\n",
    "    sim_scores = list(enumerate(cosine_sim[idx]))\n",
    "    \n",
    "    #유사도 따라 영화들 정렬\n",
    "    sim_scores = sorted(sim_scores,key=lambda x:x[1], reverse=True)\n",
    "    \n",
    "    #유사한 뉴스 10개\n",
    "    sim_scores = sim_scores[1:11] \n",
    "    \n",
    "    #10개의 뉴스 인덱스 받아온다\n",
    "    news_indices = [i[0] for i in sim_scores]\n",
    "    \n",
    "    # 기존에 읽어들인 데이터에서 해당 인덱스의 값 가져옴. 스코어 열 추가(코사인 유사도 확인)\n",
    "    result = df.iloc[news_indices].copy()\n",
    "    result['score'] = [i[1] for i in sim_scores]\n",
    "    \n",
    "    del result['body']\n",
    "    \n",
    "    df_result = result[['title','score']]\n",
    "    \n",
    "    return df_result # df['title'].iloc[news_indices] #10개의 뉴스 제목 리턴\n",
    "\n",
    "\n",
    "get_recommendatioin('한국조선해양 지난해 수주액 100억 달러…목표 91% 달성')"
   ]
  },
  {
   "cell_type": "code",
   "execution_count": 31,
   "metadata": {},
   "outputs": [
    {
     "data": {
      "text/html": [
       "<div>\n",
       "<style scoped>\n",
       "    .dataframe tbody tr th:only-of-type {\n",
       "        vertical-align: middle;\n",
       "    }\n",
       "\n",
       "    .dataframe tbody tr th {\n",
       "        vertical-align: top;\n",
       "    }\n",
       "\n",
       "    .dataframe thead th {\n",
       "        text-align: right;\n",
       "    }\n",
       "</style>\n",
       "<table border=\"1\" class=\"dataframe\">\n",
       "  <thead>\n",
       "    <tr style=\"text-align: right;\">\n",
       "      <th></th>\n",
       "      <th>title</th>\n",
       "      <th>score</th>\n",
       "    </tr>\n",
       "  </thead>\n",
       "  <tbody>\n",
       "    <tr>\n",
       "      <th>741</th>\n",
       "      <td>공영쇼핑 2021 건강하소 행복하소 이벤트</td>\n",
       "      <td>0.699871</td>\n",
       "    </tr>\n",
       "    <tr>\n",
       "      <th>888</th>\n",
       "      <td>비대면 수요에 보복소비까지…신축년 기대하는 홈쇼핑 이색 이벤트 풍성</td>\n",
       "      <td>0.396550</td>\n",
       "    </tr>\n",
       "    <tr>\n",
       "      <th>7554</th>\n",
       "      <td>출첵하고 가소…BYC 온라인 신년 이벤트 풍성</td>\n",
       "      <td>0.168408</td>\n",
       "    </tr>\n",
       "    <tr>\n",
       "      <th>5476</th>\n",
       "      <td>롯데百 새해맞이 비대면 쇼핑 이벤트 연다</td>\n",
       "      <td>0.166348</td>\n",
       "    </tr>\n",
       "    <tr>\n",
       "      <th>893</th>\n",
       "      <td>이커머스 업체들 2021년 맞아 소·새해 행사 진행</td>\n",
       "      <td>0.165688</td>\n",
       "    </tr>\n",
       "    <tr>\n",
       "      <th>5774</th>\n",
       "      <td>롯데百 온라인몰서 겨울 상품 30% 할인…소프라이즈 이벤트</td>\n",
       "      <td>0.164705</td>\n",
       "    </tr>\n",
       "    <tr>\n",
       "      <th>6747</th>\n",
       "      <td>BYC 2021년 새해 맞이 이벤트 실시</td>\n",
       "      <td>0.158350</td>\n",
       "    </tr>\n",
       "    <tr>\n",
       "      <th>6310</th>\n",
       "      <td>롯데하이마트온라인쇼핑몰 새해맞이 1월 ‘빅하트세일’ 실시</td>\n",
       "      <td>0.143038</td>\n",
       "    </tr>\n",
       "    <tr>\n",
       "      <th>12908</th>\n",
       "      <td>마켓컬리 설 선물 얼리버드 최대 60% 할인</td>\n",
       "      <td>0.133724</td>\n",
       "    </tr>\n",
       "    <tr>\n",
       "      <th>12849</th>\n",
       "      <td>삼성물산 패션삼성전자 31일까지 공동 프로모션</td>\n",
       "      <td>0.128659</td>\n",
       "    </tr>\n",
       "  </tbody>\n",
       "</table>\n",
       "</div>"
      ],
      "text/plain": [
       "                                       title     score\n",
       "741                  공영쇼핑 2021 건강하소 행복하소 이벤트  0.699871\n",
       "888    비대면 수요에 보복소비까지…신축년 기대하는 홈쇼핑 이색 이벤트 풍성  0.396550\n",
       "7554               출첵하고 가소…BYC 온라인 신년 이벤트 풍성  0.168408\n",
       "5476                  롯데百 새해맞이 비대면 쇼핑 이벤트 연다  0.166348\n",
       "893             이커머스 업체들 2021년 맞아 소·새해 행사 진행  0.165688\n",
       "5774        롯데百 온라인몰서 겨울 상품 30% 할인…소프라이즈 이벤트  0.164705\n",
       "6747                  BYC 2021년 새해 맞이 이벤트 실시  0.158350\n",
       "6310         롯데하이마트온라인쇼핑몰 새해맞이 1월 ‘빅하트세일’ 실시  0.143038\n",
       "12908               마켓컬리 설 선물 얼리버드 최대 60% 할인  0.133724\n",
       "12849              삼성물산 패션삼성전자 31일까지 공동 프로모션  0.128659"
      ]
     },
     "execution_count": 31,
     "metadata": {},
     "output_type": "execute_result"
    }
   ],
   "source": [
    "# test\n",
    "get_recommendatioin('공영쇼핑 ‘2021 건강하소 행복하소’ 이벤트')"
   ]
  }
 ],
 "metadata": {
  "kernelspec": {
   "display_name": "Python 3",
   "language": "python",
   "name": "python3"
  },
  "language_info": {
   "codemirror_mode": {
    "name": "ipython",
    "version": 3
   },
   "file_extension": ".py",
   "mimetype": "text/x-python",
   "name": "python",
   "nbconvert_exporter": "python",
   "pygments_lexer": "ipython3",
   "version": "3.8.5"
  }
 },
 "nbformat": 4,
 "nbformat_minor": 4
}
